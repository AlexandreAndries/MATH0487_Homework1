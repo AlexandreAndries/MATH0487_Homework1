{
 "cells": [
  {
   "cell_type": "markdown",
   "id": "a13ca6ca",
   "metadata": {},
   "source": [
    "# MATH0487-2 : Eléments de statistiques\n",
    "## Devoir 1 - Exploration, statistiques descriptives et modèles\n",
    "### L'équipe de MATH0487\n",
    "#### Université de Liège, Octobre 2022\n",
    "\n",
    "---"
   ]
  },
  {
   "cell_type": "markdown",
   "id": "929d6979",
   "metadata": {},
   "source": [
    "<!-- BEGIN QUESTION -->\n",
    "\n",
    "**Nom(s), Prénom(s) et matricule(s) :**"
   ]
  },
  {
   "cell_type": "markdown",
   "id": "7b66d42a",
   "metadata": {},
   "source": [
    "ANDRIES Alexandre S196948 - ROTHEUDT Thomas S191895"
   ]
  },
  {
   "cell_type": "markdown",
   "id": "53ca3aab",
   "metadata": {},
   "source": [
    "<!-- END QUESTION -->\n",
    "\n",
    "---"
   ]
  },
  {
   "cell_type": "markdown",
   "id": "194cf8b9",
   "metadata": {},
   "source": [
    "## Instructions générales"
   ]
  },
  {
   "cell_type": "markdown",
   "id": "e840a05e",
   "metadata": {},
   "source": [
    "### Objectifs"
   ]
  },
  {
   "cell_type": "markdown",
   "id": "b8af2874",
   "metadata": {},
   "source": [
    "Les objectifs de ce devoir sont les suivants : \n",
    "\n",
    "- explorer un set de données et en extraire différentes statistiques descriptives,\n",
    "\n",
    "- manipuler les paramètres d’un modèle statistique et comprendre le concept de vraisemblance (*likelihood*, en anglais)."
   ]
  },
  {
   "cell_type": "markdown",
   "id": "20b41d30",
   "metadata": {},
   "source": [
    "### Délivrables"
   ]
  },
  {
   "cell_type": "markdown",
   "id": "7ce9f3b9",
   "metadata": {},
   "source": [
    "Ce devoir doit être réalisé par groupe de 2 étudiants maximum. Chaque groupe doit\n",
    "rendre ce notebook complété, et rien d'autre. \n",
    "\n",
    "La date limite de soumission est fixée au **9 novembre 2022 à 20h00**. Jusqu’à cette date, vous avez la possibilité de (re)soumettre votre rapport ou votre code autant de fois que vous le souhaitez. Au-delà de cette date, il ne sera plus possible de soumettre le devoir. N’attendez pas la dernière minute pour soumettre une première version de votre travail !"
   ]
  },
  {
   "cell_type": "markdown",
   "id": "825abbc1",
   "metadata": {},
   "source": [
    "La soumission doit se faire sur la plateforme [Gradescope](https://www.gradescope.com/) directement. \n",
    "\n",
    "- Chaque étudiant doit s'inscrire sur [Gradescope](https://www.gradescope.com/) en utilisant son adresse `@student.uliege.be`. Si vous ne voyez pas le cours MATH0487 dans votre tableau de bord, contactez-nous sur [Ed](https://edstem.org/us/dashboard) au plus vite (n'attendez pas la veille de la date de soumission pour vérifier que vous avez accès au cours sur Gradescope ;- ).\n",
    "\n",
    "- Chaque groupe doit soumettre un seul fichier `.ipynb` sur [Gradescope](https://www.gradescope.com/). Toutes les cellules doivent être exécutables et leurs sorties ne doivent pas être effacées avant la soumission. Assurez-vous que tous les membres du groupe sont correctement ajoutés à la soumission !\n",
    "\n",
    "Si vous n'êtes pas familier avec Gradescope, vous trouverez des explicationns sur chaque étape de la soumission ci-dessous :\n",
    "- [Soumission de code](https://help.gradescope.com/article/ccbpppziu9-student-submit-work#code_submissions),\n",
    "- [Ajout de membres de groupe](https://help.gradescope.com/article/m5qz2xsnjy-student-add-group-members)."
   ]
  },
  {
   "cell_type": "markdown",
   "id": "8cf8b0c2",
   "metadata": {},
   "source": [
    "***Remarques importantes*** sur l'utilisation de ce notebook :\n",
    "- Ne modifiez et ne supprimez pas de cellules (Markdown) contenant des consignes/questions.\n",
    "- Remplissez uniquement les cellules prévues à cet effet (`...` indique une portion réservée à votre code, et <span style=\"color:red\">$\\texttt{VOTRE TEXTE ICI}$</span> indique une portion réservée à une réponse écrite), n'en créez pas de nouvelles; si, pour une raison quelconque, vous veniez à supprimer une cellule prédéfinie, il vous est demandé de télécharger à nouveau le notebook vierge et de copier le contenu déjà développé de votre côté dans cette copie vierge.\n",
    "- Respectez le type de cellule prévu pour une question donnée: certaines questions demandent d'implémenter du code (cellules \"Code\", en Python) et de présenter des résultats (valeurs numériques, tables, graphes, ...), et d'autres vous demandent de fournir une réponse utilisant du texte (cellules \"Markdown\", incluant certaines commandes LaTeX et acceptant la syntaxe HTML).\n",
    "\n",
    "Si vous rencontrez des problèmes ou avez des questions concernant ces remarques, merci de contacter l'équipe pédagogique *via* le forum de [Ed Discussion](https://edstem.org/us/courses/29547/discussion/1795956)."
   ]
  },
  {
   "cell_type": "markdown",
   "id": "a83966b2",
   "metadata": {},
   "source": [
    "### Questions"
   ]
  },
  {
   "cell_type": "markdown",
   "id": "57132d48",
   "metadata": {},
   "source": [
    "Toutes vos questions sur le devoir doivent être postées dans le forum de [Ed Discussion](https://edstem.org/us/courses/29547/discussion/1795956) du\n",
    "cours sous la catégorie *Assignments/Homework* (une question par fil de discussion). Vos questions sur\n",
    "l’utilisation de Jupyter peuvent être postées sous la catégorie *Jupyter*."
   ]
  },
  {
   "cell_type": "markdown",
   "id": "811495d6",
   "metadata": {},
   "source": [
    "### Politique de collaboration"
   ]
  },
  {
   "cell_type": "markdown",
   "id": "547142bd",
   "metadata": {},
   "source": [
    "Vous pouvez discuter du devoir avec d’autres groupes, mais *vous devez\n",
    "écrire vous-même vos propres solutions, et écrire et exécuter vous-même votre propre code*. Copier la\n",
    "solution de quelqu’un d’autre, ou simplement apporter des modifications triviales pour ne pas copier\n",
    "textuellement, n’est pas acceptable."
   ]
  },
  {
   "cell_type": "markdown",
   "id": "4b6c2d46",
   "metadata": {},
   "source": [
    "---"
   ]
  },
  {
   "cell_type": "markdown",
   "id": "fd825112",
   "metadata": {},
   "source": [
    "## 0. Présentation du problème"
   ]
  },
  {
   "cell_type": "markdown",
   "id": "42f91f6c",
   "metadata": {},
   "source": [
    "Le set de données que vous allez étudier reprend certaines caractéristiques physicochimiques et sensorielles de différentes variantes du vin portugais *Vinho verde*. Protégé par une *Denominação de Origem Controlada*, ce vin est originaire de la région de Minho, au nord-ouest du Portugal, et sa zone de production représente environ 15 % de la superficie du vignoble de ce pays. Le nom de ce vin fait référence à sa vivacité, dûe à sa vendange précoce, et non à sa couleur ; en effet, il existe aussi bien des vinho verde blancs que rouges et rosés.\n",
    "\n",
    "En particulier, dans ce premier devoir, vous allez vous concentrer sur des variantes rouges de ce vin. Les données que vous allez étudier pourraient être utilisées afin de construire un modèle prédictif de la qualité d'un vin en fonction de ses propriétés physicochimiques, par exemple. Ces données peuvent être chargées depuis le fichier `math0487_fa22_hw1_data.csv` de l'archive fournie et présentent, pour chacun des 1599 variantes répertoriées, plusieurs variables comme\n",
    "- l'acidité fixe (différence entre l'acidité totale et l'acidité volatile, acides organiques et minéraux) [g/dm^3], \n",
    "- le sucre résiduel (sucre restant dans le vin après la fermentation alcoolique) [g/dm^3], \n",
    "- la quantité de cholrides dans le vin [g/dm^3], ou encore \n",
    "- la qualité du vin [-, score entre 0 et 10]. \n",
    "\n",
    "Seule une partie de ces données va être étudiée dans le cadre de ce devoir.\n",
    "\n",
    "Dans la suite, vous allez mettre en pratique les concepts théoriques de statistique descriptive et de modèle statistique afin d'explorer le set de données présenté ci-avant. "
   ]
  },
  {
   "cell_type": "markdown",
   "id": "30042999",
   "metadata": {},
   "source": [
    "## 1. Analyse descriptive"
   ]
  },
  {
   "cell_type": "markdown",
   "id": "f7d6be81",
   "metadata": {},
   "source": [
    "Dans cette première partie du devoir, nous considérons que le set de données qui vous est fourni constitue une *population* entière. Vous allez d'abord extraire certaines valeurs de ce set de données, puis vous calculerez au sein de cette population la moyenne, l'écart-type, la médiane et certains quartiles pour les variables suivantes : \n",
    "- l'acidité fixe ('fixed acidity', [g/dm^3]), \n",
    "- le pH ('pH', [-]), et \n",
    "- la quantité d'alccol ('alcohol', [vol%]).\n",
    "\n",
    "**Remarques.** En pratique, lors d'une étude statistique, vous n'avez jamais accès à la population entière. Vous devez donc *estimer* la moyenne, l'écart-type, etc. avec des *estimateurs*, évalués à l'aide d'*échantillons*. Ces concepts d'échantillon et d'estimateur seront abordés dans la seconde partie de ce devoir ; les valeurs calculées dans cette première partie (évaluées sur la *population*) permettront ainsi de mesurer les performances de ces estimateurs (évalués à l'aide d'*échantillons* de la population).  "
   ]
  },
  {
   "cell_type": "markdown",
   "id": "0980fdc4",
   "metadata": {},
   "source": [
    "### Question 1.1. \n",
    "Pour vous donner une idée des ordres de grandeur de chaque variable étudiée, vous allez d'abord extraire les valeurs de ces variables pour 3 vins de votre population : le 10ème, le 20ème, et le 30ème. Une fois ces valeurs extraites, stockez-les dans une [dataframe Pandas](https://pandas.pydata.org/docs/reference/api/pandas.DataFrame.html). Utilisez pour ce faire la dataframe définie ci-dessous (`df_q1_1`). "
   ]
  },
  {
   "cell_type": "code",
   "execution_count": 5,
   "id": "75a62fe0",
   "metadata": {},
   "outputs": [],
   "source": [
    "# ces librairies devraient suffir à réaliser ce premier devoir, vous pouvez évidemment en utiliser d'autres (à importer dans cette cellule).\n",
    "import pandas as pd\n",
    "import numpy as np\n",
    "import matplotlib.pyplot as plt\n",
    "from mpl_toolkits.mplot3d import Axes3D"
   ]
  },
  {
   "cell_type": "code",
   "execution_count": 6,
   "id": "ce38b132",
   "metadata": {
    "scrolled": true,
    "tags": []
   },
   "outputs": [
    {
     "data": {
      "text/html": [
       "<div>\n",
       "<style scoped>\n",
       "    .dataframe tbody tr th:only-of-type {\n",
       "        vertical-align: middle;\n",
       "    }\n",
       "\n",
       "    .dataframe tbody tr th {\n",
       "        vertical-align: top;\n",
       "    }\n",
       "\n",
       "    .dataframe thead th {\n",
       "        text-align: right;\n",
       "    }\n",
       "</style>\n",
       "<table border=\"1\" class=\"dataframe\">\n",
       "  <thead>\n",
       "    <tr style=\"text-align: right;\">\n",
       "      <th></th>\n",
       "      <th>fixed acidity</th>\n",
       "      <th>pH</th>\n",
       "      <th>alcohol</th>\n",
       "    </tr>\n",
       "  </thead>\n",
       "  <tbody>\n",
       "    <tr>\n",
       "      <th>10th</th>\n",
       "      <td>7.5</td>\n",
       "      <td>3.35</td>\n",
       "      <td>10.5</td>\n",
       "    </tr>\n",
       "    <tr>\n",
       "      <th>20th</th>\n",
       "      <td>7.9</td>\n",
       "      <td>3.04</td>\n",
       "      <td>9.2</td>\n",
       "    </tr>\n",
       "    <tr>\n",
       "      <th>30th</th>\n",
       "      <td>7.8</td>\n",
       "      <td>3.38</td>\n",
       "      <td>9.8</td>\n",
       "    </tr>\n",
       "  </tbody>\n",
       "</table>\n",
       "</div>"
      ],
      "text/plain": [
       "      fixed acidity    pH  alcohol\n",
       "10th            7.5  3.35     10.5\n",
       "20th            7.9  3.04      9.2\n",
       "30th            7.8  3.38      9.8"
      ]
     },
     "execution_count": 6,
     "metadata": {},
     "output_type": "execute_result"
    }
   ],
   "source": [
    "# initialisation de la dataframe (à remplir)\n",
    "idx = ['10th', '20th', '30th']\n",
    "var = ['fixed acidity', 'pH', 'alcohol']\n",
    "df_q1_1 = pd.DataFrame(np.zeros((3,3)), idx, var)\n",
    "df_q1_1\n",
    "\n",
    "# chargement du dataset\n",
    "data = pd.read_csv('data/math0487_fa22_hw1_data.csv') #\n",
    "df_q1_1 = pd.DataFrame(data, index=[9,19,29], columns=var) #\n",
    "df_q1_1.index = idx\n",
    "\n",
    "# calcul des valeurs demandées\n",
    "# Mean -----\n",
    "means = df_q1_1.mean()\n",
    "\n",
    "# Median -----\n",
    "medians = df_q1_1.median()\n",
    "\n",
    "# Std Dev -----\n",
    "stdDevs = df_q1_1.std()\n",
    "\n",
    "# visualisation de la dataframe\n",
    "df_q1_1"
   ]
  },
  {
   "cell_type": "markdown",
   "id": "2356e88f",
   "metadata": {},
   "source": [
    "<!-- BEGIN QUESTION -->\n",
    "\n",
    "### Question 1.2. \n",
    "Vous allez maintenant analyser plus en détails la distribution de ces variables. *Pour chacune d'entre elles*, vous allez calculer différentes valeurs: la moyenne, l'écart-type, la médiane et les quartiles ($F^{-1}(0.25)$,  $F^{-1}(0.5)$ et $F^{-1}(0.75)$). A nouveau, il vous est demandé de remplir la dataframe prévue à cet effet (`df_q1_2`)."
   ]
  },
  {
   "cell_type": "code",
   "execution_count": 7,
   "id": "35d11259",
   "metadata": {
    "tags": []
   },
   "outputs": [
    {
     "data": {
      "text/html": [
       "<div>\n",
       "<style scoped>\n",
       "    .dataframe tbody tr th:only-of-type {\n",
       "        vertical-align: middle;\n",
       "    }\n",
       "\n",
       "    .dataframe tbody tr th {\n",
       "        vertical-align: top;\n",
       "    }\n",
       "\n",
       "    .dataframe thead th {\n",
       "        text-align: right;\n",
       "    }\n",
       "</style>\n",
       "<table border=\"1\" class=\"dataframe\">\n",
       "  <thead>\n",
       "    <tr style=\"text-align: right;\">\n",
       "      <th></th>\n",
       "      <th>fixed acidity</th>\n",
       "      <th>pH</th>\n",
       "      <th>alcohol</th>\n",
       "    </tr>\n",
       "  </thead>\n",
       "  <tbody>\n",
       "    <tr>\n",
       "      <th>mean</th>\n",
       "      <td>8.319637</td>\n",
       "      <td>3.311113</td>\n",
       "      <td>10.422983</td>\n",
       "    </tr>\n",
       "    <tr>\n",
       "      <th>std</th>\n",
       "      <td>1.741096</td>\n",
       "      <td>0.154386</td>\n",
       "      <td>1.065668</td>\n",
       "    </tr>\n",
       "    <tr>\n",
       "      <th>median</th>\n",
       "      <td>7.900000</td>\n",
       "      <td>3.310000</td>\n",
       "      <td>10.200000</td>\n",
       "    </tr>\n",
       "    <tr>\n",
       "      <th>q25</th>\n",
       "      <td>7.100000</td>\n",
       "      <td>3.210000</td>\n",
       "      <td>9.500000</td>\n",
       "    </tr>\n",
       "    <tr>\n",
       "      <th>q75</th>\n",
       "      <td>9.200000</td>\n",
       "      <td>3.400000</td>\n",
       "      <td>11.100000</td>\n",
       "    </tr>\n",
       "  </tbody>\n",
       "</table>\n",
       "</div>"
      ],
      "text/plain": [
       "        fixed acidity        pH    alcohol\n",
       "mean         8.319637  3.311113  10.422983\n",
       "std          1.741096  0.154386   1.065668\n",
       "median       7.900000  3.310000  10.200000\n",
       "q25          7.100000  3.210000   9.500000\n",
       "q75          9.200000  3.400000  11.100000"
      ]
     },
     "execution_count": 7,
     "metadata": {},
     "output_type": "execute_result"
    }
   ],
   "source": [
    "# initialisation de la dataframe (à remplir)\n",
    "var = ['fixed acidity', 'pH', 'alcohol']\n",
    "idx = ['mean', 'std', 'median', 'q25', 'q75']\n",
    "df_q1_2 = pd.DataFrame(np.zeros((5,3)), idx, var)\n",
    "\n",
    "# calcul des valeurs demandées\n",
    "fullDF = pd.DataFrame(data, columns=var)\n",
    "df_q1_2.loc[\"mean\"] = fullDF.mean()\n",
    "df_q1_2.loc[\"std\"] = fullDF.std()\n",
    "df_q1_2.loc[\"median\"] = fullDF.median()\n",
    "df_q1_2.loc[\"q25\"] = fullDF.quantile(q=0.25)\n",
    "df_q1_2.loc[\"q75\"] = fullDF.quantile(q=0.75)\n",
    "\n",
    "# visualisation de la dataframe\n",
    "df_q1_2"
   ]
  },
  {
   "cell_type": "markdown",
   "id": "6b91e1e7",
   "metadata": {},
   "source": [
    "<!-- END QUESTION -->\n",
    "\n",
    "<!-- BEGIN QUESTION -->\n",
    "\n",
    "Y a-t-il des données aberrantes ? Tracez un graphique *par variable* illustrant ces valeurs (3 figures sont donc attendues) puis répondez à cette question. "
   ]
  },
  {
   "cell_type": "code",
   "execution_count": 11,
   "id": "caeba78a",
   "metadata": {
    "tags": []
   },
   "outputs": [
    {
     "data": {
      "image/png": "[encoded data removed]",
      "text/plain": [
       "<Figure size 640x480 with 1 Axes>"
      ]
     },
     "metadata": {},
     "output_type": "display_data"
    },
    {
     "data": {
      "image/png": "[encoded data removed]",
      "text/plain": [
       "<Figure size 640x480 with 1 Axes>"
      ]
     },
     "metadata": {},
     "output_type": "display_data"
    },
    {
     "data": {
      "image/png": "[encoded data removed]",
      "text/plain": [
       "<Figure size 640x480 with 1 Axes>"
      ]
     },
     "metadata": {},
     "output_type": "display_data"
    }
   ],
   "source": [
    "# plot nice diagrams with y-axis label units, title, and azure background\n",
    "def plot_box(df, title, ylab):\n",
    "\n",
    "    fig, axes = plt.subplots(1)\n",
    "\n",
    "    axes.set_title(title)\n",
    "    axes.set(ylabel=ylab)\n",
    "    axes.set_facecolor('azure')\n",
    "\n",
    "    df.plot(kind='box')\n",
    "    plt.tight_layout()\n",
    "    plt.show()\n",
    "\n",
    "plot_box(fullDF['fixed acidity'], 'fixed acidity boxplot', 'g/dm^3')\n",
    "plot_box(fullDF['pH'], 'pH boxplot', '-')\n",
    "plot_box(fullDF['alcohol'], 'alcohol boxplot', 'vol%')"
   ]
  },
  {
   "cell_type": "markdown",
   "id": "a32bc41e",
   "metadata": {},
   "source": [
    "<span style=\"color:red\">Les données aberrantes correspondent aux cercles noirs situés en dehors des moustaches des diagrammes \"boîtes à moustaches\". </span>"
   ]
  },
  {
   "cell_type": "markdown",
   "id": "0a57016b",
   "metadata": {},
   "source": [
    "<!-- END QUESTION -->\n",
    "\n",
    "<!-- BEGIN QUESTION -->\n",
    "\n",
    "Comment appelle-t-on ce genre de graphique ? "
   ]
  },
  {
   "cell_type": "markdown",
   "id": "e5ce1ded",
   "metadata": {},
   "source": [
    "<span style=\"color:red\">Ce type de graphique se nomme \"boîte à moustaches\" (en anglais : \"boxplot\")</span>"
   ]
  },
  {
   "cell_type": "markdown",
   "id": "0d138813",
   "metadata": {},
   "source": [
    "<!-- END QUESTION -->\n",
    "\n",
    "<!-- BEGIN QUESTION -->\n",
    "\n",
    "A partir de ces graphiques et sans considérer les données aberrantes, que pouvez-vous déduire quand à la moyenne de chacune des variables ?"
   ]
  },
  {
   "cell_type": "markdown",
   "id": "b217dfdd",
   "metadata": {},
   "source": [
    "<span style=\"color:red\">\n",
    "On observe que le diagramme concernant le pH semble symétriquement distribué car les moustaches sont de même longueur et la médiane se situe au milieu des 2 quartiles. On peut déduire que la médiane est donc proche de la moyenne. \n",
    "    \n",
    "En revanche, on observe que dans le cas du diagramme concernant l'acidité fixe, la distribution est asymétrique (skewed en anglais). L'asymétrie est positive car la médiane tend vers la gauche et la moustache gauche est plus courte que la droite. On peut donc en déduire que la moyenne ne correspondra pas totalement à la médiane. \n",
    "</span>"
   ]
  },
  {
   "cell_type": "markdown",
   "id": "16a084d8",
   "metadata": {},
   "source": [
    "<!-- END QUESTION -->\n",
    "\n",
    "<!-- BEGIN QUESTION -->\n",
    "\n",
    "Que pouvez-vous dire en comparant ces graphiques ?"
   ]
  },
  {
   "cell_type": "markdown",
   "id": "f9492feb",
   "metadata": {},
   "source": [
    "<span style=\"color:red\">\n",
    "Fixed acidity :\n",
    "On observe une grande quantité de données aberrantes du côté des valeurs d'acidité hautes. La distribution des données est positivement asymétriques. \n",
    "\n",
    "\n",
    "pH : \n",
    "Les données aberrantes sont présentes des deux cotés des moustaches du graphique. La distribution semble symétrique.\n",
    "   \n",
    "Alcohol:\n",
    "Le diagramme est similaire a celui concernant l'acidité fixe, cependant on observe très pue de données aberrantes. On peut en déduire que la moyenne ne sera que faiblement influencée par les données hors moustaches.\n",
    "</span>"
   ]
  },
  {
   "cell_type": "markdown",
   "id": "93f99ab5",
   "metadata": {},
   "source": [
    "<!-- END QUESTION -->\n",
    "\n",
    "<!-- BEGIN QUESTION -->\n",
    "\n",
    "Tracez maintenant l'histogramme et la fonction de répartition (*cumulative distribution function* (CDF), en anglais) pour chaque variable. (6 figures attendues, avec titre et/ou noms d'axes)"
   ]
  },
  {
   "cell_type": "code",
   "execution_count": 13,
   "id": "19e3f632",
   "metadata": {
    "tags": []
   },
   "outputs": [
    {
     "data": {
      "image/png": "[encoded data removed]",
      "text/plain": [
       "<Figure size 640x480 with 1 Axes>"
      ]
     },
     "metadata": {},
     "output_type": "display_data"
    },
    {
     "data": {
      "image/png": "[encoded data removed]",
      "text/plain": [
       "<Figure size 640x480 with 1 Axes>"
      ]
     },
     "metadata": {},
     "output_type": "display_data"
    },
    {
     "data": {
      "image/png": "[encoded data removed]",
      "text/plain": [
       "<Figure size 640x480 with 1 Axes>"
      ]
     },
     "metadata": {},
     "output_type": "display_data"
    },
    {
     "data": {
      "image/png": "[encoded data removed]",
      "text/plain": [
       "<Figure size 640x480 with 1 Axes>"
      ]
     },
     "metadata": {},
     "output_type": "display_data"
    },
    {
     "data": {
      "image/png": "[encoded data removed]",
      "text/plain": [
       "<Figure size 640x480 with 1 Axes>"
      ]
     },
     "metadata": {},
     "output_type": "display_data"
    },
    {
     "data": {
      "image/png": "[encoded data removed]",
      "text/plain": [
       "<Figure size 640x480 with 1 Axes>"
      ]
     },
     "metadata": {},
     "output_type": "display_data"
    }
   ],
   "source": [
    "# génération des différentes figures\n",
    "def plot_histogram(df, title, ylab, xlab):\n",
    "    fig, axes = plt.subplots(1)\n",
    "\n",
    "    axes.set_title(title)\n",
    "    axes.set(ylabel=ylab, xlabel=xlab)\n",
    "    axes.set_facecolor('azure')  # --> light blue background\n",
    "\n",
    "    plt.hist(df)\n",
    "    plt.tight_layout()\n",
    "    plt.show()\n",
    "\n",
    "\n",
    "def plot_cdf(df, title, xlab):\n",
    "    fig, axes = plt.subplots(1)\n",
    "\n",
    "    # Frequency\n",
    "    df = pd.DataFrame(df)\n",
    "    df.rename(columns= {title:'value'}, inplace = True)\n",
    "    dfFreq = df.sort_values(by=['value'])\n",
    "    dfFreq = df.groupby('value')['value'].agg('count').pipe(pd.DataFrame).rename(columns={'value' : 'frequency'})\n",
    "\n",
    "    # PDF\n",
    "    dfFreq['pdf'] = dfFreq['frequency'] / sum(dfFreq['frequency'])\n",
    "\n",
    "    # CDF\n",
    "    dfFreq['cdf'] = dfFreq['pdf'].cumsum()\n",
    "    dfFreq = dfFreq.reset_index()\n",
    "\n",
    "    plt.plot(dfFreq['value'],dfFreq['cdf'], 'r')\n",
    "\n",
    "    axes.set_title(title + \" CDF\")\n",
    "    axes.set(xlabel=xlab, ylabel='probabilité')\n",
    "    axes.set_facecolor('azure')\n",
    "    plt.tight_layout()\n",
    "    plt.show()\n",
    "    \n",
    "# graphiques\n",
    "plot_histogram(fullDF['fixed acidity'],\n",
    "               'fixed acidity histogram', 'effectifs', 'g/dm^3')\n",
    "plot_cdf(fullDF['fixed acidity'],\n",
    "               'fixed acidity', 'g/dm^3')\n",
    "\n",
    "plot_histogram(fullDF['pH'], 'pH histogram', 'effectifs', '-')\n",
    "plot_cdf(fullDF['pH'], 'pH', '-')\n",
    "\n",
    "plot_histogram(fullDF['alcohol'], 'alcohol histogram', 'effectifs', 'vol%')\n",
    "plot_cdf(fullDF['alcohol'], 'alcohol', 'vol%')"
   ]
  },
  {
   "cell_type": "markdown",
   "id": "0132a2bb",
   "metadata": {},
   "source": [
    "<!-- END QUESTION -->\n",
    "\n",
    "<!-- BEGIN QUESTION -->\n",
    "\n",
    "Comparez. En particulier : \n",
    "- Les histogrammes générés peuvent être utilisés afin d'avoir une idée de la fonction de densité (*probability density function* (PDF), en anglais) des différentes variables dans la population : les différentes distributions que vous approximez vous font-elles penser à des distributions connues ? \n",
    "- Mettez également en relation la PDF et la CDF pour chaque variable (justifiez théoriquement). \n",
    "- Mettez vos résultats en relation avec les graphes illustrant les valeurs aberrantes générés plus tôt dans le devoir, pour chaque variable."
   ]
  },
  {
   "cell_type": "markdown",
   "id": "7bdab7e8",
   "metadata": {},
   "source": [
    "<span style=\"color:red\">$\\texttt{VOTRE TEXTE ICI}$</span>"
   ]
  },
  {
   "cell_type": "markdown",
   "id": "d934c03f",
   "metadata": {},
   "source": [
    "<!-- END QUESTION -->\n",
    "\n",
    "<!-- BEGIN QUESTION -->\n",
    "\n",
    "### Question 1.3.\n",
    "Enfin, vous allez analyser les relations qui existent entre les différentes variables. Comparez, numériquement *et* graphiquement, les trois couples de variables.\n",
    "- Pour la comparaison numérique, organisez vos valeurs dans une dataframe `rel_df` (matrice de corrélation). \n",
    "- Pour les graphiques, organisez vos nuages de points sous la forme d'une \"matrice\" (comme proposé dans cette [vidéo](https://www.youtube.com/watch?v=6lm4wJ1qm0w) de Jean-luc Doumont)."
   ]
  },
  {
   "cell_type": "code",
   "execution_count": null,
   "id": "8fb80cae",
   "metadata": {
    "tags": []
   },
   "outputs": [],
   "source": [
    "# comparaison numérique \n",
    "...\n",
    "\n",
    "# visualisation\n",
    "rel_df"
   ]
  },
  {
   "cell_type": "code",
   "execution_count": null,
   "id": "31495622",
   "metadata": {
    "tags": []
   },
   "outputs": [],
   "source": [
    "# comparaison graphique\n",
    "..."
   ]
  },
  {
   "cell_type": "markdown",
   "id": "b495efc8",
   "metadata": {},
   "source": [
    "A la lumière des comparaisons numériques **et** graphiques que vous avez générées, que pouvez-vous déduire des relations entre les variables ?  "
   ]
  },
  {
   "cell_type": "markdown",
   "id": "89bef095",
   "metadata": {},
   "source": [
    "<span style=\"color:red\">$\\texttt{VOTRE TEXTE ICI}$</span>"
   ]
  },
  {
   "cell_type": "markdown",
   "id": "f29f0c27",
   "metadata": {},
   "source": [
    "<!-- END QUESTION -->\n",
    "\n",
    "## 2. Echantillon, modèle et vraisemblance"
   ]
  },
  {
   "cell_type": "markdown",
   "id": "0afd0d69",
   "metadata": {},
   "source": [
    "Pour cette seconde partie du devoir, vous allez vous focaliser sur une seule variable de votre population: l'alcool (*alcohol* dans votre set de données), dénotée $X$. Afin d'étudier les concepts de modèle et de vraisemblance, vous allez maintenant travailler avec des échantillons et non plus la population complète. Les notions d'estimateur et de biais vont également être abordées."
   ]
  },
  {
   "cell_type": "markdown",
   "id": "38cbf960",
   "metadata": {},
   "source": [
    "<!-- BEGIN QUESTION -->\n",
    "\n",
    "### Question 2.1.\n",
    "Afin d'étudier le concept de biais et d'estimer le biais de certains estimateurs vus au cours, vous allez premièrement comparer les effets de certains paramètres sur la précision de deux estimateurs : \n",
    "- la moyenne d'échantillon $\\bar{X}$, comme estimateur de la moyenne de population $\\mu$, et\n",
    "- la variance d'échantillon (biaisée) $\\hat{\\sigma}^2$, comme estimateur de la variance de population $\\sigma^2$."
   ]
  },
  {
   "cell_type": "markdown",
   "id": "10a76d73",
   "metadata": {},
   "source": [
    "Pour ce faire, vous allez générer les courbes suivantes, en tirant $500$ échantillons différents :\n",
    "- dans une première figure, l'évolution de la valeur absolue du biais de la moyenne d'échantillon, ainsi que l'évolution de la variance de la moyenne d'échantillon en fonction de la taille d'échantillon $n$, pour $n \\in \\{1, 2, \\ldots, 100\\}$ ;\n",
    "- dans une seconde figure, idem, mais pour l'évolution de la valeur absolue du biais de la variance d'échantillon.\n",
    "\n",
    "Au total, **deux** figures sont attendues, chacune contenant **deux** courbes. Pensez à **ajouter une légende** sur vos deux figures, afin d'éviter une confusion entre les courbes (en plus des labels d'axes, évidemment).\n",
    "\n",
    "*Remarque importante*: lorsque vous calculez des statistiques en utilisant une fonction implémentée dans une librairie Python (ou autre), *vérifiez* dans la documentation que cette fonction calcule bien la statistique souhaitée telle que définie dans le cours théorique."
   ]
  },
  {
   "cell_type": "code",
   "execution_count": null,
   "id": "dd12fef0",
   "metadata": {
    "tags": []
   },
   "outputs": [],
   "source": [
    "..."
   ]
  },
  {
   "cell_type": "markdown",
   "id": "362f31b7",
   "metadata": {},
   "source": [
    "Qu'observez-vous ? En particulier :\n",
    "\n",
    "- Comparez, pour chaque estimateur, l'influence de la taille d'échantillon $n$ sur le biais de cet estimateur. \n",
    "- Comparez, pour chaque estimateur, l'influence de la taille d'échantillon $n$ sur la variance de cet estimateur. \n",
    "\n",
    "Justifiez vos observations."
   ]
  },
  {
   "cell_type": "markdown",
   "id": "6289ddad",
   "metadata": {},
   "source": [
    "<span style=\"color:red\">$\\texttt{VOTRE TEXTE ICI}$</span>"
   ]
  },
  {
   "cell_type": "markdown",
   "id": "b68f0769",
   "metadata": {},
   "source": [
    "<!-- END QUESTION -->\n",
    "\n",
    "<!-- BEGIN QUESTION -->\n",
    "\n",
    "### Question 2.2. \n",
    "L'estimateur de la variance de la population que vous avez utilisé au point précédent est un estimateur *biaisé*. Répétez maintenant l'opération de la question précédente pour la variance de la population en modifiant votre estimateur pour qu'il soit *non-biaisé*."
   ]
  },
  {
   "cell_type": "markdown",
   "id": "438bd44a",
   "metadata": {},
   "source": [
    "Commencez par définir l'estimateur utilisé (nom et définition mathématique)."
   ]
  },
  {
   "cell_type": "markdown",
   "id": "a5ce3eb1",
   "metadata": {},
   "source": [
    "<span style=\"color:red\">$\\texttt{VOTRE TEXTE ICI}$</span>"
   ]
  },
  {
   "cell_type": "markdown",
   "id": "dfa2ed34",
   "metadata": {},
   "source": [
    "Tracez maintenant les graphes demandés."
   ]
  },
  {
   "cell_type": "code",
   "execution_count": null,
   "id": "220d2cf0",
   "metadata": {
    "tags": []
   },
   "outputs": [],
   "source": [
    "..."
   ]
  },
  {
   "cell_type": "markdown",
   "id": "0f357843",
   "metadata": {},
   "source": [
    "<!-- END QUESTION -->\n",
    "\n",
    "### Question 2.3.\n",
    "Vous allez maintenant étudier les concepts de modèle statistique et de vraisemblance. La distribution à modéliser est celle de la variable aléatoire étudiée précédemment dans cette seconde partie du devoir (l'alcool). D'autres variables comme celles étudiées dans la première partie pourraient être modélisées également."
   ]
  },
  {
   "cell_type": "markdown",
   "id": "3a029442",
   "metadata": {},
   "source": [
    "Considérons 2 modèles afin de modéliser la distribution de la variable étudiée :\n",
    "\n",
    "- une distribution exponentielle de paramètre $\\lambda$ dont la densité de probabilité (*probability density function* ou PDF, en anglais) est donnée par (cas 1)\n",
    "$$\\lambda e^{-\\lambda x}, \\; \\text{pour} \\; x>0 ;$$\n",
    "\n",
    "- une distribution normale de paramètres $\\mu$ et $\\sigma^2$ (dénotant la moyenne et la variance, respectivement) dont la PDF est donnée par (cas 2)\n",
    "$$\\frac{1}{\\sigma\\sqrt{2\\pi}}\\exp\\left(-\\frac{(x-\\mu)^2}{2\\sigma^2}\\right).$$"
   ]
  },
  {
   "cell_type": "markdown",
   "id": "3229c267",
   "metadata": {},
   "source": [
    "<!-- BEGIN QUESTION -->\n",
    "\n",
    "Par souci de simplicité, vous allez étudier la log-vraisemblance pour les deux modèles présentés ci-avant. Pour chacun de ces modèles, donnez la formulation analytique de la fonction de log-vraisemblance *pour un échantillon $\\textbf{x}=\\{x_1, x_{2}\\}$ de 2 réalisations* de la variable aléatoire $X$ définie plus tôt."
   ]
  },
  {
   "cell_type": "markdown",
   "id": "62010dcf",
   "metadata": {},
   "source": [
    "- cas 1 : $\\log L(\\lambda ; \\textbf{x}) = \\log f_{X}(\\textbf{x} ; \\lambda) =$ <span style=\"color:red\">$\\texttt{VOTRE TEXTE ICI}$</span> \n",
    "\n",
    "- cas 2 : $\\log L(\\mu, \\sigma^2 ; \\textbf{x}) = \\log f_{X}(\\textbf{x} ; \\mu, \\sigma^2) =$ <span style=\"color:red\">$\\texttt{VOTRE TEXTE ICI}$</span> "
   ]
  },
  {
   "cell_type": "markdown",
   "id": "506ff629",
   "metadata": {},
   "source": [
    "<!-- END QUESTION -->\n",
    "\n",
    "<!-- BEGIN QUESTION -->\n",
    "\n",
    "A nouveau, tirez un échantillon i.i.d. de $n=2$ éléments de votre population."
   ]
  },
  {
   "cell_type": "code",
   "execution_count": null,
   "id": "02449c3e",
   "metadata": {
    "tags": []
   },
   "outputs": [],
   "source": [
    "..."
   ]
  },
  {
   "cell_type": "markdown",
   "id": "cbec7d92",
   "metadata": {},
   "source": [
    "<!-- END QUESTION -->\n",
    "\n",
    "Tracez maintenant les graphes de la fonction de (log-)vraisemblance pour les deux modèles définis ci-dessus, en fonction de leur(s) paramètre(s) et pour les observations de l'échantillon tiré i.i.d. dans la cellule précédente. Par de souci de simplicité et pour obtenir des figures lisibles, préférez des valeurs de paramètres ($\\lambda$, $\\mu$ et $\\sigma^2$) proches des estimateurs obtenus par la méthode du maximum de vraisemblance. "
   ]
  },
  {
   "cell_type": "markdown",
   "id": "21f6cd77",
   "metadata": {},
   "source": [
    "<!-- BEGIN QUESTION -->\n",
    "\n",
    "- distribution exponentielle (un axe des abscisses, un axe des ordonnées) :"
   ]
  },
  {
   "cell_type": "code",
   "execution_count": null,
   "id": "ef368cb0",
   "metadata": {
    "tags": []
   },
   "outputs": [],
   "source": [
    "..."
   ]
  },
  {
   "cell_type": "markdown",
   "id": "5d0c92df",
   "metadata": {},
   "source": [
    "<!-- END QUESTION -->\n",
    "\n",
    "<!-- BEGIN QUESTION -->\n",
    "\n",
    "- distribution normale (deux axes des abscisses, un axe des ordonnées) :"
   ]
  },
  {
   "cell_type": "code",
   "execution_count": null,
   "id": "efb609b6",
   "metadata": {
    "tags": []
   },
   "outputs": [],
   "source": [
    "..."
   ]
  },
  {
   "cell_type": "markdown",
   "id": "6930ae9a",
   "metadata": {},
   "source": [
    "<!-- END QUESTION -->\n",
    "\n",
    "<!-- BEGIN QUESTION -->\n",
    "\n",
    "Que pouvez-vous en déduire quant à la vraisemblance des modèles proposés pour l'échantillon tiré ?"
   ]
  },
  {
   "cell_type": "markdown",
   "id": "d5b17aaf",
   "metadata": {},
   "source": [
    "<span style=\"color:red\">$\\texttt{VOTRE TEXTE ICI}$</span>"
   ]
  },
  {
   "cell_type": "markdown",
   "id": "5422360f",
   "metadata": {},
   "source": [
    "<!-- END QUESTION -->\n",
    "\n"
   ]
  }
 ],
 "metadata": {
  "kernelspec": {
   "display_name": "Python 3 (ipykernel)",
   "language": "python",
   "name": "python3"
  },
  "language_info": {
   "codemirror_mode": {
    "name": "ipython",
    "version": 3
   },
   "file_extension": ".py",
   "mimetype": "text/x-python",
   "name": "python",
   "nbconvert_exporter": "python",
   "pygments_lexer": "ipython3",
   "version": "3.9.2"
  },
  "otter": {
   "OK_FORMAT": false,
   "assignment_name": "math0487-hw00",
   "tests": {
    "q1.1": "from otter.test_files import test_case\n\nOK_FORMAT = False\n\nname = \"q1.1\"\npoints = None\n\n"
   }
  },
  "vscode": {
   "interpreter": {
    "hash": "9fd8822999b8dad6b535ba3cdc626c50b69b653c95086a3b01bd3376c8413095"
   }
  }
 },
 "nbformat": 4,
 "nbformat_minor": 5
}
